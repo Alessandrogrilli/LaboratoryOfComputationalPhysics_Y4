{
 "cells": [
  {
   "cell_type": "markdown",
   "metadata": {},
   "source": [
    "1. The MickeyMouse problem\n",
    "\n",
    "a) Write a program that prints the numbers from 1 to 100. But for multiples of three print Mickey instead of the number and for the multiples of five print Mouse. For numbers which are multiples of both three and five print MickeyMouse\n",
    "\n",
    "b) Put the result in a tuple and substitute Mickey with Donald and Mouse with Duck"
   ]
  },
  {
   "cell_type": "code",
   "execution_count": 23,
   "metadata": {
    "scrolled": true
   },
   "outputs": [
    {
     "name": "stdout",
     "output_type": "stream",
     "text": [
      "[1, 2, 'Mickey', 4, 'Mouse', 'Mickey', 7, 8, 'Mickey', 'Mouse', 11, 'Mickey', 13, 14, 'MickeyMouse', 16, 17, 'Mickey', 19, 'Mouse', 'Mickey', 22, 23, 'Mickey', 'Mouse', 26, 'Mickey', 28, 29, 'MickeyMouse', 31, 32, 'Mickey', 34, 'Mouse', 'Mickey', 37, 38, 'Mickey', 'Mouse', 41, 'Mickey', 43, 44, 'MickeyMouse', 46, 47, 'Mickey', 49, 'Mouse', 'Mickey', 52, 53, 'Mickey', 'Mouse', 56, 'Mickey', 58, 59, 'MickeyMouse', 61, 62, 'Mickey', 64, 'Mouse', 'Mickey', 67, 68, 'Mickey', 'Mouse', 71, 'Mickey', 73, 74, 'MickeyMouse', 76, 77, 'Mickey', 79, 'Mouse', 'Mickey', 82, 83, 'Mickey', 'Mouse', 86, 'Mickey', 88, 89, 'MickeyMouse', 91, 92, 'Mickey', 94, 'Mouse', 'Mickey', 97, 98, 'Mickey', 'Mouse']\n",
      "[1, 2, 'Donald', 4, 'Duck', 'Donald', 7, 8, 'Donald', 'Duck', 11, 'Donald', 13, 14, 'DonaldDuck', 16, 17, 'Donald', 19, 'Duck', 'Donald', 22, 23, 'Donald', 'Duck', 26, 'Donald', 28, 29, 'DonaldDuck', 31, 32, 'Donald', 34, 'Duck', 'Donald', 37, 38, 'Donald', 'Duck', 41, 'Donald', 43, 44, 'DonaldDuck', 46, 47, 'Donald', 49, 'Duck', 'Donald', 52, 53, 'Donald', 'Duck', 56, 'Donald', 58, 59, 'DonaldDuck', 61, 62, 'Donald', 64, 'Duck', 'Donald', 67, 68, 'Donald', 'Duck', 71, 'Donald', 73, 74, 'DonaldDuck', 76, 77, 'Donald', 79, 'Duck', 'Donald', 82, 83, 'Donald', 'Duck', 86, 'Donald', 88, 89, 'DonaldDuck', 91, 92, 'Donald', 94, 'Duck', 'Donald', 97, 98, 'Donald', 'Duck']\n"
     ]
    }
   ],
   "source": [
    "#a\n",
    "l=list()\n",
    "i = 1\n",
    "while i < 101: \n",
    "    if i % 3 == 0 and i % 5 == 0:\n",
    "        l+= [\"MickeyMouse\"]\n",
    "    elif i % 3 == 0:\n",
    "        l+= [\"Mickey\"]\n",
    "    elif i % 5 == 0:\n",
    "        l+= [\"Mouse\"]\n",
    "    else:\n",
    "        l+=[i]     \n",
    "    i+=1\n",
    "print(l)\n",
    "j=0\n",
    "#b\n",
    "while j < 100:\n",
    "    if l[j] == \"MickeyMouse\":\n",
    "        l[j] = \"DonaldDuck\"\n",
    "    elif l[j] == \"Mickey\":\n",
    "        l[j] = \"Donald\"\n",
    "    elif l[j] == \"Mouse\":\n",
    "        l[j] = \"Duck\" \n",
    "    j+=1    \n",
    "print(l)        \n"
   ]
  },
  {
   "cell_type": "markdown",
   "metadata": {},
   "source": [
    "2\\. The swap function\n",
    "\n",
    "Write a function that swap the values of two input variables x and y (whatever the type). Try to do that also without a temporary variable"
   ]
  },
  {
   "cell_type": "code",
   "execution_count": 3,
   "metadata": {},
   "outputs": [
    {
     "name": "stdout",
     "output_type": "stream",
     "text": [
      "insert the value of x: b\n",
      "insert the value of y: n\n",
      "n b\n"
     ]
    }
   ],
   "source": [
    "x = input(\"insert the value of x: \")\n",
    "y = input(\"insert the value of y: \")\n",
    "def swap_function(x,y):\n",
    "    x,y = y,x\n",
    "    print(x,y)\n",
    "swap_function(x,y)\n",
    "\n",
    "    "
   ]
  },
  {
   "cell_type": "markdown",
   "metadata": {},
   "source": [
    "3\\. Computing the distance\n",
    "\n",
    "Write a function that calculates and returns the euclidean distance between two points *u* and *v*, where *u* and *v* are both 2-tuples *(x,y)*. For example, if *u=(3,0)* and *v=(0,4)*, the function should return 5"
   ]
  },
  {
   "cell_type": "code",
   "execution_count": 79,
   "metadata": {},
   "outputs": [
    {
     "name": "stdout",
     "output_type": "stream",
     "text": [
      "insert the value of x: 3\n",
      "insert the value of y: 6\n",
      "insert the value of x: 2\n",
      "insert the value of y: 1\n",
      "5.0990195135927845\n"
     ]
    }
   ],
   "source": [
    "from math import sqrt\n",
    "a = (int(input(\"insert the value of x: \")),int(input(\"insert the value of y: \")))\n",
    "b = (int(input(\"insert the value of x: \")),int(input(\"insert the value of y: \")))\n",
    "def eucledian_distance (a,b):\n",
    "    return sqrt((a[0]-b[0])**2+(a[1]-b[1])**2)\n",
    "dist = eucledian_distance(a,b)\n",
    "print(dist)\n"
   ]
  },
  {
   "cell_type": "markdown",
   "metadata": {},
   "source": [
    "4\\. Counting letters\n",
    "\n",
    "Write a program to calculate the number of times each character occurs in a given string *s*. Ignore differneces in capitalization"
   ]
  },
  {
   "cell_type": "code",
   "execution_count": 26,
   "metadata": {},
   "outputs": [],
   "source": [
    "s=\"Write a program that prints the numbers from 1 to 100. \\\n",
    "But for multiples of three print Mickey instead of the number and for the multiples of five print Mouse. \\\n",
    "For numbers which are multiples of both three and five print MickeyMouse\""
   ]
  },
  {
   "cell_type": "code",
   "execution_count": 78,
   "metadata": {},
   "outputs": [
    {
     "name": "stdout",
     "output_type": "stream",
     "text": [
      "Il carattere w compare  2 volte\n",
      "Il carattere r compare  17 volte\n",
      "Il carattere i compare  14 volte\n",
      "Il carattere t compare  19 volte\n",
      "Il carattere e compare  22 volte\n",
      "Il carattere a compare  7 volte\n",
      "Il carattere p compare  8 volte\n",
      "Il carattere o compare  13 volte\n",
      "Il carattere g compare  1 volte\n",
      "Il carattere m compare  12 volte\n",
      "Il carattere h compare  9 volte\n",
      "Il carattere n compare  10 volte\n",
      "Il carattere s compare  9 volte\n",
      "Il carattere u compare  9 volte\n",
      "Il carattere b compare  5 volte\n",
      "Il carattere f compare  10 volte\n",
      "Il carattere 1 compare  2 volte\n",
      "Il carattere 0 compare  2 volte\n",
      "Il carattere . compare  2 volte\n",
      "Il carattere l compare  6 volte\n",
      "Il carattere c compare  3 volte\n",
      "Il carattere k compare  2 volte\n",
      "Il carattere y compare  2 volte\n",
      "Il carattere d compare  3 volte\n",
      "Il carattere v compare  2 volte\n"
     ]
    }
   ],
   "source": [
    "s=\"Write a program that prints the numbers from 1 to 100. \\\n",
    "But for multiples of three print Mickey instead of the number and for the multiples of five print Mouse. \\\n",
    "For numbers which are multiples of both three and five print MickeyMouse\"\n",
    "count = {}\n",
    "for c in s:\n",
    "    c = c.lower()\n",
    "    if c in count:\n",
    "        if c != \" \":\n",
    "            count[c] += 1\n",
    "    else:\n",
    "        if c != \" \":\n",
    "            count[c] = 1 \n",
    "\n",
    "for key in count:\n",
    "    if count[key] >= 1:\n",
    "        print (\"Il carattere\", key, \"compare \", count[key], \"volte\")"
   ]
  },
  {
   "cell_type": "markdown",
   "metadata": {},
   "source": [
    "5\\. Isolating the unique\n",
    "\n",
    "Write a function that determines and count the unique numbers in the list *l*"
   ]
  },
  {
   "cell_type": "code",
   "execution_count": 2,
   "metadata": {},
   "outputs": [],
   "source": [
    "l = [36, 45, 58, 3, 74, 96, 64, 45, 31, 10, 24, 19, 33, 86, 99, 18, 63, 70, 85,\n",
    " 85, 63, 47, 56, 42, 70, 84, 88, 55, 20, 54, 8, 56, 51, 79, 81, 57, 37, 91,\n",
    " 1, 84, 84, 36, 66, 9, 89, 50, 42, 91, 50, 95, 90, 98, 39, 16, 82, 31, 92, 41,\n",
    " 45, 30, 66, 70, 34, 85, 94, 5, 3, 36, 72, 91, 84, 34, 87, 75, 53, 51, 20, 89, 51, 20]"
   ]
  },
  {
   "cell_type": "code",
   "execution_count": 5,
   "metadata": {},
   "outputs": [
    {
     "name": "stdout",
     "output_type": "stream",
     "text": [
      "[58, 74, 96, 64, 10, 24, 19, 33, 86, 99, 18, 47, 88, 55, 54, 8, 79, 81, 57, 37, 1, 9, 95, 90, 98, 39, 16, 82, 92, 41, 30, 94, 5, 72, 87, 75, 53]\n",
      "The number of unique characters is 37\n"
     ]
    }
   ],
   "source": [
    "def unique(x):\n",
    "    list_unique = []\n",
    "    list_not_unique = []\n",
    "    for i in x:\n",
    "        if i in list_unique:\n",
    "            list_unique.remove(i)\n",
    "            list_not_unique.append(i)\n",
    "        elif i not in list_not_unique:\n",
    "            list_unique.append(i)\n",
    "    print(list_unique)\n",
    "    print( \"The number of unique characters is\", len(list_unique))\n",
    "unique(l)\n",
    "            \n",
    "        \n",
    "    \n",
    "    "
   ]
  },
  {
   "cell_type": "markdown",
   "metadata": {},
   "source": [
    "6\\. Combination of functions\n",
    "\n",
    "Write two functions - one that returns the square of a number, and one that returns the cube. Now write a third function that returns the number raised to the 6th power using the two previous functions."
   ]
  },
  {
   "cell_type": "code",
   "execution_count": 6,
   "metadata": {},
   "outputs": [
    {
     "data": {
      "text/plain": [
       "64"
      ]
     },
     "execution_count": 6,
     "metadata": {},
     "output_type": "execute_result"
    }
   ],
   "source": [
    "def square(x):\n",
    "    return x*x\n",
    "def cube(x):\n",
    "    return pow(x,3)\n",
    "def sixth_power(x):\n",
    "    return cube(square(x))\n",
    "\n",
    "sixth_power(2)\n"
   ]
  },
  {
   "cell_type": "markdown",
   "metadata": {},
   "source": [
    "7\\. Cubes\n",
    "\n",
    "Create a list of the cubes of x for x in *[0, 10]* using:\n",
    "\n",
    "a) a for loop\n",
    "\n",
    "b) a list comprehension"
   ]
  },
  {
   "cell_type": "code",
   "execution_count": 11,
   "metadata": {},
   "outputs": [
    {
     "name": "stdout",
     "output_type": "stream",
     "text": [
      "[0, 1, 8, 27, 64, 125, 216, 343, 512, 729, 1000]\n",
      "[0, 1, 8, 27, 64, 125, 216, 343, 512, 729, 1000]\n"
     ]
    }
   ],
   "source": [
    "#a\n",
    "lista = []\n",
    "for x in range(11):\n",
    "    lista.append(pow(x,3))\n",
    "print(lista)\n",
    "\n",
    "\n",
    "\n",
    "#b\n",
    "list = [pow(x,3) for x in range(11)]\n",
    "print(list)"
   ]
  },
  {
   "cell_type": "markdown",
   "metadata": {},
   "source": [
    "8\\. Nested list comprehension\n",
    "\n",
    "A Pythagorean triple is an integer solution to the Pythagorean theorem $a^2+b^2=c^2$. The first Pythagorean triple is (3,4,5). Find and put in a tuple all unique Pythagorean triples for the positive integers a, b and c less than 100."
   ]
  },
  {
   "cell_type": "code",
   "execution_count": 6,
   "metadata": {},
   "outputs": [
    {
     "name": "stdout",
     "output_type": "stream",
     "text": [
      "[(3, 4, 5), (5, 12, 13), (6, 8, 10), (7, 24, 25), (8, 15, 17), (9, 12, 15), (9, 40, 41), (10, 24, 26), (11, 60, 61), (12, 16, 20), (12, 35, 37), (13, 84, 85), (14, 48, 50), (15, 20, 25), (15, 36, 39), (16, 30, 34), (16, 63, 65), (18, 24, 30), (18, 80, 82), (20, 21, 29), (20, 48, 52), (21, 28, 35), (21, 72, 75), (24, 32, 40), (24, 45, 51), (24, 70, 74), (25, 60, 65), (27, 36, 45), (28, 45, 53), (30, 40, 50), (30, 72, 78), (32, 60, 68), (33, 44, 55), (33, 56, 65), (35, 84, 91), (36, 48, 60), (36, 77, 85), (39, 52, 65), (39, 80, 89), (40, 42, 58), (40, 75, 85), (42, 56, 70), (45, 60, 75), (48, 55, 73), (48, 64, 80), (51, 68, 85), (54, 72, 90), (57, 76, 95), (60, 63, 87), (65, 72, 97)]\n",
      "50\n"
     ]
    }
   ],
   "source": [
    "from math import sqrt\n",
    "gianni = []\n",
    "droga = []\n",
    "for a in range(1,100):\n",
    "    for b in range(1,100):\n",
    "        for c in range(1,100):\n",
    "            k = a**(10) + b**(10) + c**(10)\n",
    "            if a**(2)+b**(2) == c**(2):\n",
    "                   if k not in droga:\n",
    "                    droga.append(k)\n",
    "                    gianni.append((a,b,c))\n",
    "print(gianni)  \n",
    "print(len(gianni))"
   ]
  },
  {
   "cell_type": "markdown",
   "metadata": {},
   "source": [
    "9\\. Normalization\n",
    "\n",
    "Write a function that takes a tuple of numbers and returns it with the entries normalized to one"
   ]
  },
  {
   "cell_type": "code",
   "execution_count": 9,
   "metadata": {},
   "outputs": [
    {
     "data": {
      "text/plain": [
       "[0.12309149097933272,\n",
       " 0.24618298195866545,\n",
       " 0.3692744729379982,\n",
       " 0.4923659639173309,\n",
       " 0.7385489458759964]"
      ]
     },
     "execution_count": 9,
     "metadata": {},
     "output_type": "execute_result"
    }
   ],
   "source": [
    "from math import sqrt\n",
    "def normalizer(l):\n",
    "    x = 0\n",
    "    lista = []\n",
    "    for i in l:\n",
    "        x +=i**(2)\n",
    "    for j in l:\n",
    "        v = j/sqrt(x)\n",
    "        lista.append(v)\n",
    "    return lista\n",
    "l=(1,2,3,4,6) \n",
    "normalizer(l)"
   ]
  },
  {
   "cell_type": "code",
   "execution_count": null,
   "metadata": {},
   "outputs": [],
   "source": []
  }
 ],
 "metadata": {
  "kernelspec": {
   "display_name": "Python 3",
   "language": "python",
   "name": "python3"
  },
  "language_info": {
   "codemirror_mode": {
    "name": "ipython",
    "version": 3
   },
   "file_extension": ".py",
   "mimetype": "text/x-python",
   "name": "python",
   "nbconvert_exporter": "python",
   "pygments_lexer": "ipython3",
   "version": "3.7.6"
  }
 },
 "nbformat": 4,
 "nbformat_minor": 2
}
