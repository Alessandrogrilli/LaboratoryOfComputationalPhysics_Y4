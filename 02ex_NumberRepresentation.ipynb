{
 "cells": [
  {
   "cell_type": "markdown",
   "metadata": {},
   "source": [
    "1\\. Write a function that converts number representation (bin<->dec<->hex)"
   ]
  },
  {
   "cell_type": "code",
   "execution_count": 1,
   "metadata": {},
   "outputs": [
    {
     "name": "stdout",
     "output_type": "stream",
     "text": [
      "Hexadecimal representation of 23 : 0x17\n",
      "Binary representation of 23 : 0b10111\n"
     ]
    }
   ],
   "source": [
    "\n",
    "def converter(x,base):\n",
    "    if base == 2:\n",
    "        x_int = int(x,2)\n",
    "        print('Decimal representation of', x, ':',x_int )\n",
    "        print('Hexadecimal representation of', x, ':',hex(x_int))\n",
    "    elif base == 16:\n",
    "        x_int = int(x,16)\n",
    "        print('Decimal representation of', x, ':',x_int)\n",
    "        print('Binary representation of', x, ':',bin(x_int))\n",
    "    else:\n",
    "        print('Hexadecimal representation of', x, ':',hex(x))\n",
    "        print('Binary representation of', x, ':',bin(x))\n",
    "\n",
    "converter(23,10)\n"
   ]
  },
  {
   "cell_type": "markdown",
   "metadata": {},
   "source": [
    "2\\. Write a function that converts a 32 bit word into a single precision floating point (i.e. interprets the various bits as sign, mantissa and exponent)"
   ]
  },
  {
   "cell_type": "code",
   "execution_count": 2,
   "metadata": {},
   "outputs": [
    {
     "data": {
      "text/plain": [
       "3.1415927410125732"
      ]
     },
     "execution_count": 2,
     "metadata": {},
     "output_type": "execute_result"
    }
   ],
   "source": [
    "def convert(number):\n",
    "    number = str(number)\n",
    "    s = int(number[0])\n",
    "    e = int(number[1:9],2)\n",
    "    b=127\n",
    "    f=1\n",
    "    for n in range(9,32):\n",
    "        f += int(number[n],2)*2**(8-n)     \n",
    "    return (-1)**(s)*f*2**(e-b)\n",
    "convert(\"01000000010010010000111111011011\") #pi\n",
    "\n",
    "\n"
   ]
  },
  {
   "cell_type": "markdown",
   "metadata": {},
   "source": [
    "3\\. Write a program to determine the underflow and overflow limits (within a factor of 2) for python on your computer. \n",
    "\n",
    "**Tips**: define two variables inizialized to 1 and halve/double them enough time to exceed the under/over-flow limits  "
   ]
  },
  {
   "cell_type": "code",
   "execution_count": 3,
   "metadata": {},
   "outputs": [
    {
     "name": "stdout",
     "output_type": "stream",
     "text": [
      "We exceed the under-flow limit after: 1075 iterations\n",
      "We exceed the over-flow limit after: 1024 iterations\n"
     ]
    }
   ],
   "source": [
    "N = 5000\n",
    "under = 1\n",
    "over = 1\n",
    "i = 0\n",
    "for i in range(N):\n",
    "    xu = under\n",
    "    under = under/2\n",
    "    if under == xu:\n",
    "        print(\"We exceed the under-flow limit after:\",i , \"iterations\")\n",
    "        break\n",
    "N = 0        \n",
    "while(True):\n",
    "    xo = over\n",
    "    over = over*2\n",
    "    N += 1\n",
    "    try: \n",
    "        float(over) == float(over)\n",
    "    except:\n",
    "        print(\"We exceed the over-flow limit after:\",N , \"iterations\")\n",
    "        break\n",
    "    \n"
   ]
  },
  {
   "cell_type": "markdown",
   "metadata": {},
   "source": [
    "4\\. Write a program to determine the machine precision\n",
    "\n",
    "**Tips**: define a new variable by adding a smaller and smaller value (proceeding similarly to prob. 2) to an original variable and check the point where the two are the same "
   ]
  },
  {
   "cell_type": "code",
   "execution_count": 4,
   "metadata": {},
   "outputs": [
    {
     "name": "stdout",
     "output_type": "stream",
     "text": [
      "The precision of the machine is until 15 -th decimal digit\n"
     ]
    }
   ],
   "source": [
    "N=20\n",
    "for i in range(N):\n",
    "    value = 10\n",
    "    if value == value + 10**(-i):\n",
    "        print('The precision of the machine is until', i-1 ,'-th decimal digit')\n",
    "        break\n",
    "        \n",
    "        \n",
    "        \n",
    "    \n"
   ]
  },
  {
   "cell_type": "markdown",
   "metadata": {},
   "source": [
    "5\\. Write a function that takes in input three parameters $a$, $b$ and $c$ and prints out the two solutions to the quadratic equation $ax^2+bx+c=0$ using the standard formula:\n",
    "$$\n",
    "x=\\frac{-b\\pm\\sqrt{b^2-4ac}}{2a}\n",
    "$$\n",
    "\n",
    "(a) use the program to compute the solution for $a=0.001$, $b=1000$ and $c=0.001$\n",
    "\n",
    "(b) re-express the standard solution formula by multiplying top and bottom by $-b\\mp\\sqrt{b^2-4ac}$ and again find the solution for $a=0.001$, $b=1000$ and $c=0.001$. How does it compare with what previously obtained? Why?\n",
    "\n",
    "(c) write a function that compute the roots of a quadratic equation accurately in all cases"
   ]
  },
  {
   "cell_type": "code",
   "execution_count": 8,
   "metadata": {
    "scrolled": true
   },
   "outputs": [
    {
     "name": "stdout",
     "output_type": "stream",
     "text": [
      "-9.999894245993346e-07 -999999.999999\n",
      "-1.0000000000009999e-06 -1000010.5755125057\n",
      "-1.0000000000009999e-06 -999999.999999\n",
      "The second method works badly for the second solution because at the denominator we have a substraction between two numbers that are almost identical\n"
     ]
    }
   ],
   "source": [
    "from math import sqrt\n",
    "\n",
    "def equation_1(a,b,c):\n",
    "    s1 = (-b + sqrt(pow(b,2) - 4*a*c))/(2*a)\n",
    "    s2 = (-b - sqrt(pow(b,2) - 4*a*c))/(2*a)\n",
    "    print(s1,s2)\n",
    "    \n",
    "\n",
    "def equation_2(a,b,c): \n",
    "    s1 = (4*a*c)/(2*a*(-b - sqrt(pow(b,2)-4*a*c)))\n",
    "    s2 = (4*a*c)/(2*a*(-b + sqrt(pow(b,2)-4*a*c))) \n",
    "    print(s1,s2)\n",
    "    \n",
    "def equation_3(a,b,c):\n",
    "    s1 = (4*a*c)/(2*a*(-b - sqrt(pow(b,2)-4*a*c)))\n",
    "    s2 = (-b - sqrt(pow(b,2) - 4*a*c))/(2*a)\n",
    "    print(s1,s2)\n",
    "    \n",
    "equation_1(0.001,1000,0.001)   \n",
    "equation_2(0.001,1000,0.001)\n",
    "equation_3(0.001,1000,0.001)\n",
    "print(\"The second method works badly for the second solution because at the denominator we have a substraction between two numbers that are almost identical\")"
   ]
  },
  {
   "cell_type": "markdown",
   "metadata": {},
   "source": [
    "6\\. Write a program that implements the function $f(x)=x(x−1)$\n",
    "\n",
    "(a) Calculate the derivative of the function at the point $x = 1$ using the derivative definition:\n",
    "\n",
    "$$\n",
    "\\frac{{\\rm d}f}{{\\rm d}x} = \\lim_{\\delta\\to0} \\frac{f(x+\\delta)-f(x)}{\\delta}\n",
    "$$\n",
    "\n",
    "with $\\delta = 10^{−2}$. Calculate the true value of the same derivative analytically and compare with the answer your program gives. The two will not agree perfectly. Why not?\n",
    "\n",
    "(b) Repeat the calculation for $\\delta = 10^{−4}, 10^{−6}, 10^{−8}, 10^{−10}, 10^{−12}$ and $10^{−14}$. How does the accuracy scales with $\\delta$?"
   ]
  },
  {
   "cell_type": "code",
   "execution_count": 6,
   "metadata": {},
   "outputs": [
    {
     "name": "stdout",
     "output_type": "stream",
     "text": [
      "1.010000000000001\n",
      "1.0000999999998899\n",
      "1.0000009999177333\n",
      "1.0000000039225287\n",
      "1.000000082840371\n",
      "1.0000889005833413\n",
      "0.9992007221626509\n",
      "We find the best solution for delta = 10^-8, in fact for smaller deltas the precision of the machine gets worse \n"
     ]
    }
   ],
   "source": [
    "\n",
    "def function(x):\n",
    "    return x*(x-1)\n",
    "def derivative(f,x,delta):\n",
    "    return (f(x+delta) - f(x))/delta\n",
    "deltas = [10**(-2), 10**-4, 10**-6, 10**-8, 10**-10, 10**-12, 10**-14]\n",
    "for d in deltas:\n",
    "    print(derivative(function,1,d))\n",
    "print(\"We find the best solution for delta = 10^-8, in fact for smaller deltas the precision of the machine gets worse \")"
   ]
  },
  {
   "cell_type": "raw",
   "metadata": {},
   "source": []
  },
  {
   "cell_type": "markdown",
   "metadata": {},
   "source": [
    "7\\. Consider the integral of the semicircle of radius 1:\n",
    "$$\n",
    "I=\\int_{-1}^{1} \\sqrt(1-x^2) {\\rm d}x\n",
    "$$\n",
    "which it's known to be $I=\\frac{\\pi}{2}=1.57079632679...$.\n",
    "Alternatively we can use the Riemann definition of the integral:\n",
    "$$\n",
    "I=\\lim_{N\\to\\infty} \\sum_{k=1}^{N} h y_k \n",
    "$$\n",
    "\n",
    "with $h=2/N$ the width of each of the $N$ slices the domain is divided into and where\n",
    "$y_k$ is the value of the function at the $k-$th slice.\n",
    "\n",
    "(a) Write a programe to compute the integral with $N=100$. How does the result compares to the true value?\n",
    "\n",
    "(b) How much can $N$ be increased if the computation needs to be run in less than a second? What is the gain in running it for 1 minute? \n"
   ]
  },
  {
   "cell_type": "code",
   "execution_count": 7,
   "metadata": {},
   "outputs": [
    {
     "name": "stdout",
     "output_type": "stream",
     "text": [
      "0.9835751056671143\n",
      "For less than a second, N can be increased up to be approx N =  710001  with a result for the integral: \n",
      " I= 1.5707963172280914 with an error of: 6.090417338610362e-09\n",
      "If we run for one minute N can be increased up to be approx N=5*10^7, we can further reduce the error but the machine performance gets worse\n"
     ]
    }
   ],
   "source": [
    "#a\n",
    "import time\n",
    "import math\n",
    "true = math.pi/2.0\n",
    "N=1\n",
    "times = 0\n",
    "integral = 0\n",
    "while times < 1:\n",
    "    integral_f = integral\n",
    "    t_f = times\n",
    "    start = time.time()\n",
    "    list_numbers = [ (sqrt(1-(-1+(n-1)*2/N)**(2)))*2/N for n in range(N) if n>0]\n",
    "    integral = sum(list_numbers)\n",
    "    end = time.time()\n",
    "    times = end - start\n",
    "    N=N+5000    \n",
    "error = (abs(true-integral_f))/(integral_f)    \n",
    "print(t_f)\n",
    "print(\"For less than a second, N can be increased up to be approx N = \", N - 5000 ,\" with a result for the integral: \\n I=\", integral_f,\"with an error of:\", error)\n",
    "print(\"If we run for one minute N can be increased up to be approx N=5*10^7, we can further reduce the error but the machine performance gets worse\")\n"
   ]
  },
  {
   "cell_type": "code",
   "execution_count": null,
   "metadata": {},
   "outputs": [],
   "source": []
  }
 ],
 "metadata": {
  "kernelspec": {
   "display_name": "Python 3",
   "language": "python",
   "name": "python3"
  },
  "language_info": {
   "codemirror_mode": {
    "name": "ipython",
    "version": 3
   },
   "file_extension": ".py",
   "mimetype": "text/x-python",
   "name": "python",
   "nbconvert_exporter": "python",
   "pygments_lexer": "ipython3",
   "version": "3.7.6"
  }
 },
 "nbformat": 4,
 "nbformat_minor": 2
}
